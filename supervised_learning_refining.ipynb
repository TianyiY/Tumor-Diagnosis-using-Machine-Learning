{
 "cells": [
  {
   "cell_type": "code",
   "execution_count": 7,
   "metadata": {
    "collapsed": false,
    "deletable": true,
    "editable": true
   },
   "outputs": [
    {
     "name": "stdout",
     "output_type": "stream",
     "text": [
      "the accuracy of the training set modeled by logistic regression after tuning is:  0.974178403756\n",
      "the accuracy of the test set modeled by logistic regression after tuning is  0.972027972028\n",
      "the F-score of the training set modeled by logistic regression after tuning is:  0.979439252336\n",
      "the F-score of the test set modeled by logistic regression after tuning is  0.977272727273\n",
      "{'training time': 4.7829999923706055, 'prediction time': 0.0}\n",
      "[[153   6]\n",
      " [  5 262]]\n",
      "[[53  0]\n",
      " [ 4 86]]\n"
     ]
    }
   ],
   "source": [
    "import numpy as np\n",
    "from Data_Visualization import Data_Visualization\n",
    "from time import time\n",
    "from sklearn.linear_model import LogisticRegression\n",
    "from sklearn.metrics import confusion_matrix\n",
    "from Data_Process import Data_Process\n",
    "from sklearn.metrics import accuracy_score\n",
    "from sklearn.metrics import make_scorer\n",
    "from sklearn.model_selection import GridSearchCV\n",
    "from sklearn.metrics import f1_score\n",
    "\n",
    "# perform decision logistic regression with parameters tuning on data set\n",
    "if __name__==\"__main__\":\n",
    "\n",
    "    time_results={}    # for calculate the time efficiency\n",
    "\n",
    "    X, Y=Data_Process().get_data()\n",
    "    X_train, X_test, y_train, y_test =Data_Process().data_split(X, Y)\n",
    "\n",
    "    LR = LogisticRegression(random_state=0)\n",
    "    # Exhaustive search over specified parameter values for an estimator, including:\n",
    "    #  1. The penalty term (L1--power 1 or L2--power 2)\n",
    "    #  2. 'C' means inverse of regularization strength. Like in support vector machines, \n",
    "    #      smaller values specify stronger regularization.\n",
    "    #  3. 'fit_intercept' specifies if a constant (a.k.a. bias or intercept) should be added to the decision function.\n",
    "    parameters={'penalty':['l1', 'l2'], 'C':[0.1, 1, 10], 'fit_intercept':[True, False]}\n",
    "    scorer=make_scorer(accuracy_score)    # make accuracy as the evaluation metrics in parameeter tuning\n",
    "\n",
    "    # data training (including parameter tuning)\n",
    "    start1 = time()\n",
    "    LR_obj=GridSearchCV(estimator=LR, param_grid=parameters, scoring=scorer)\n",
    "    LR_fit=LR_obj.fit(X_train, y_train)\n",
    "    LR_best=LR_fit.best_estimator_\n",
    "    end1 = time()\n",
    "    time_results['training time'] = end1 - start1\n",
    "\n",
    "    # make prediction\n",
    "    start2 = time()\n",
    "    y_train_pred = LR_best.predict(X_train)\n",
    "    y_test_pred = LR_best.predict(X_test)\n",
    "    end2 = time()\n",
    "    time_results['prediction time'] = end2 - start2\n",
    "\n",
    "    # calculating the metrics\n",
    "    train_accuracy = 1.0 * np.mean(y_train_pred == y_train)\n",
    "    test_accuracy = 1.0 * np.mean(y_test_pred == y_test)\n",
    "    train_fscore = f1_score(y_train, y_train_pred)\n",
    "    test_fscore = f1_score(y_test, y_test_pred)\n",
    "\n",
    "    print 'the accuracy of the training set modeled by logistic regression after tuning is: ', train_accuracy\n",
    "    print 'the accuracy of the test set modeled by logistic regression after tuning is ', test_accuracy\n",
    "    print 'the F-score of the training set modeled by logistic regression after tuning is: ', train_fscore\n",
    "    print 'the F-score of the test set modeled by logistic regression after tuning is ', test_fscore\n",
    "\n",
    "    print time_results\n",
    "    print confusion_matrix(y_train, y_train_pred)\n",
    "    print confusion_matrix(y_test, y_test_pred)"
   ]
  },
  {
   "cell_type": "code",
   "execution_count": 9,
   "metadata": {
    "collapsed": false,
    "deletable": true,
    "editable": true
   },
   "outputs": [
    {
     "name": "stdout",
     "output_type": "stream",
     "text": [
      "the accuracy of the training set modeled by SVC after tuning is:  0.988262910798\n",
      "the accuracy of the test set modeled by SVC after tuning is  0.972027972028\n",
      "the F-score of the training set modeled by SVC after tuning is:  0.990689013035\n",
      "the F-score of the test set modeled by SVC after tuning is  0.978021978022\n",
      "{'training time': 2.203000068664551, 'prediction time': 0.0}\n",
      "[[155   4]\n",
      " [  1 266]]\n",
      "[[50  3]\n",
      " [ 1 89]]\n"
     ]
    }
   ],
   "source": [
    "from sklearn.svm import SVC\n",
    "\n",
    "# perform support vector classification with parameters tuning on data set\n",
    "if __name__==\"__main__\":\n",
    "\n",
    "    time_results = {}  # for calculate the time efficiency\n",
    "\n",
    "    X, Y = Data_Process().get_data()\n",
    "    X=Data_Process().data_normalization(X)\n",
    "    X_train, X_test, y_train, y_test=Data_Process().data_split(X, Y)\n",
    "\n",
    "    svc = SVC(random_state=0)\n",
    "    # Exhaustive search over specified parameter values for an estimator, including:\n",
    "    #  1.'C': Penalty parameter of the error term. smaller values specify stronger regularization.\n",
    "    #  2.'kernel': Specifies the kernel type to be used in the algorithm, including polynomial, gaussian and sigmoid\n",
    "    #  3.'gamma': defines how far the influence of a single training example reaches, \n",
    "    #     a small gamma value define a Gaussian function with a large variance\n",
    "    parameters = {'C': [1, 10, 20, 50], 'kernel': ['poly', 'rbf', 'sigmoid'], 'gamma': [0.1, 0.01, 0.001, 0.0001]}\n",
    "    scorer = make_scorer(accuracy_score)   # make accuracy as the evaluation metrics in parameeter tuning\n",
    "\n",
    "    # data training (including parameter tuning)\n",
    "    start1 = time()\n",
    "    svc_obj=GridSearchCV(estimator=svc, param_grid=parameters, scoring=scorer)\n",
    "    svc_fit=svc_obj.fit(X_train, y_train)\n",
    "    svc_best = svc_fit.best_estimator_\n",
    "    end1 = time()\n",
    "    time_results['training time'] = end1 - start1\n",
    "\n",
    "    # make prediction\n",
    "    start2 = time()\n",
    "    y_train_pred = svc_best.predict(X_train)\n",
    "    y_test_pred = svc_best.predict(X_test)\n",
    "    end2 = time()\n",
    "    time_results['prediction time'] = end2 - start2\n",
    "\n",
    "    # compute metrics\n",
    "    train_accuracy = accuracy_score(y_train, y_train_pred)\n",
    "    test_accuracy = accuracy_score(y_test, y_test_pred)\n",
    "    train_fscore = f1_score(y_train, y_train_pred)\n",
    "    test_fscore = f1_score(y_test, y_test_pred)\n",
    "\n",
    "    print 'the accuracy of the training set modeled by SVC after tuning is: ', train_accuracy\n",
    "    print 'the accuracy of the test set modeled by SVC after tuning is ', test_accuracy\n",
    "    print 'the F-score of the training set modeled by SVC after tuning is: ', train_fscore\n",
    "    print 'the F-score of the test set modeled by SVC after tuning is ', test_fscore\n",
    "\n",
    "    print time_results\n",
    "    print confusion_matrix(y_train, y_train_pred)\n",
    "    print confusion_matrix(y_test, y_test_pred)"
   ]
  },
  {
   "cell_type": "code",
   "execution_count": 10,
   "metadata": {
    "collapsed": false,
    "deletable": true,
    "editable": true
   },
   "outputs": [
    {
     "name": "stdout",
     "output_type": "stream",
     "text": [
      "the accuracy of the training set modeled by Decision Tree after tuning is:  0.992957746479\n",
      "the accuracy of the test set modeled by Decision Tree after tuning is  0.895104895105\n",
      "the F-score of the training set modeled by Decision Tree after tuning is:  0.994413407821\n",
      "the F-score of the test set modeled by Decision Tree after tuning is  0.913294797688\n",
      "{'training time': 0.5509998798370361, 'prediction time': 0.016000032424926758}\n",
      "[[156   3]\n",
      " [  0 267]]\n",
      "[[49  4]\n",
      " [11 79]]\n"
     ]
    },
    {
     "data": {
      "image/png": "[encoded data removed]",
      "text/plain": [
       "<matplotlib.figure.Figure at 0x8cbe930>"
      ]
     },
     "metadata": {},
     "output_type": "display_data"
    }
   ],
   "source": [
    "from sklearn.tree import DecisionTreeClassifier\n",
    "\n",
    "# perform decision tree classification with parameters tuning on data set\n",
    "if __name__==\"__main__\":\n",
    "\n",
    "    time_results = {}    # for calculate the time efficiency\n",
    "\n",
    "    X, Y = Data_Process().get_data()\n",
    "    X_train, X_test, y_train, y_test=Data_Process().data_split(X, Y)\n",
    "\n",
    "    DTC = DecisionTreeClassifier(random_state=0)\n",
    "    # Exhaustive search over specified parameter values for an estimator, including:\n",
    "    #  1. The criterion used (calculating gini or entropy)\n",
    "    #  2. The selection of max number of features will be used \n",
    "    #  3. The selection of max depth the tree will reach\n",
    "    parameters = {'criterion': ['gini', 'entropy'], 'max_features': ['auto', 'log2', None], 'max_depth': [3, 5, None]}\n",
    "    scorer = make_scorer(accuracy_score)    # make accuracy as the evaluation metrics in parameeter tuning\n",
    "\n",
    "    # data training (including parameter tuning)\n",
    "    start1 = time()\n",
    "    DTC_obj=GridSearchCV(estimator=DTC, param_grid=parameters, scoring=scorer)\n",
    "    DTC_fit=DTC_obj.fit(X_train, y_train)\n",
    "    DTC_best = DTC_fit.best_estimator_\n",
    "    end1 = time()\n",
    "    time_results['training time'] = end1 - start1\n",
    "\n",
    "    # make prediction\n",
    "    start2 = time()\n",
    "    y_train_pred = DTC_best.predict(X_train)\n",
    "    y_test_pred = DTC_best.predict(X_test)\n",
    "    end2 = time()\n",
    "    time_results['prediction time'] = end2 - start2\n",
    "\n",
    "    # calculating the metrics\n",
    "    train_accuracy = accuracy_score(y_train, y_train_pred)\n",
    "    test_accuracy = accuracy_score(y_test, y_test_pred)\n",
    "    train_fscore=f1_score(y_train, y_train_pred)\n",
    "    test_fscore=f1_score(y_test, y_test_pred)\n",
    "\n",
    "    print 'the accuracy of the training set modeled by Decision Tree after tuning is: ', train_accuracy\n",
    "    print 'the accuracy of the test set modeled by Decision Tree after tuning is ', test_accuracy\n",
    "    print 'the F-score of the training set modeled by Decision Tree after tuning is: ', train_fscore\n",
    "    print 'the F-score of the test set modeled by Decision Tree after tuning is ', test_fscore\n",
    "\n",
    "    print time_results\n",
    "    print confusion_matrix(y_train, y_train_pred)\n",
    "    print confusion_matrix(y_test, y_test_pred)\n",
    "    \n",
    "    # visualiza the important features in decision tree\n",
    "    Data_Visualization().feature_importance_vis(DTC_best)"
   ]
  },
  {
   "cell_type": "code",
   "execution_count": 11,
   "metadata": {
    "collapsed": false,
    "deletable": true,
    "editable": true
   },
   "outputs": [
    {
     "name": "stdout",
     "output_type": "stream",
     "text": [
      "the accuracy of the training set modeled by Random Forest after tuning is:  0.995305164319\n",
      "the accuracy of the test set modeled by Random Forest after tuning is  0.979020979021\n",
      "the F-score of the training set modeled by Random Forest after tuning is:  0.996268656716\n",
      "the F-score of the test set modeled by Random Forest after tuning is  0.983240223464\n",
      "{'training time': 74.67599987983704, 'prediction time': 0.23399996757507324}\n",
      "[[157   2]\n",
      " [  0 267]]\n",
      "[[52  1]\n",
      " [ 2 88]]\n"
     ]
    },
    {
     "data": {
      "image/png": "[encoded data removed]",
      "text/plain": [
       "<matplotlib.figure.Figure at 0x8a7fdf0>"
      ]
     },
     "metadata": {},
     "output_type": "display_data"
    }
   ],
   "source": [
    "from sklearn.ensemble import RandomForestClassifier\n",
    "\n",
    "# perform random forest classification with parameters tuning on data set\n",
    "if __name__==\"__main__\":\n",
    "\n",
    "    time_results = {} # for calculate the time efficiency\n",
    "\n",
    "    X, Y = Data_Process().get_data()\n",
    "    X_train, X_test, y_train, y_test=Data_Process().data_split(X, Y)\n",
    "\n",
    "    RFC = RandomForestClassifier(random_state=0)\n",
    "    # Exhaustive search over specified parameter values for an estimator, including:\n",
    "    #  1.'n_estimators': The number of trees in the forest. \n",
    "    #  2.The criterion used for calculation('gini' or 'entropy') \n",
    "    #  3.The max depth the trees will reach\n",
    "    parameters = {'n_estimators': [50, 100, 200], 'criterion': ['gini', 'entropy'], 'max_depth': [3, 4, 5, None]}\n",
    "    scorer = make_scorer(accuracy_score)   # make accuracy as the evaluation metrics in parameeter tuning\n",
    "\n",
    "    # data training (including parameter tuning)\n",
    "    start1 = time()\n",
    "    RFC_obj=GridSearchCV(estimator=RFC, param_grid=parameters, scoring=scorer)\n",
    "    RFC_fit=RFC_obj.fit(X_train, y_train)\n",
    "    RFC_best = RFC_fit.best_estimator_\n",
    "    end1 = time()\n",
    "    time_results['training time'] = end1 - start1\n",
    "\n",
    "    # make prediction\n",
    "    start2 = time()\n",
    "    y_train_pred = RFC_best.predict(X_train)\n",
    "    y_test_pred = RFC_best.predict(X_test)\n",
    "    end2 = time()\n",
    "    time_results['prediction time'] = end2 - start2\n",
    "\n",
    "    # calculate the metrics\n",
    "    train_accuracy = accuracy_score(y_train, y_train_pred)\n",
    "    test_accuracy = accuracy_score(y_test, y_test_pred)\n",
    "    train_fscore = f1_score(y_train, y_train_pred)\n",
    "    test_fscore = f1_score(y_test, y_test_pred)\n",
    "\n",
    "    print 'the accuracy of the training set modeled by Random Forest after tuning is: ', train_accuracy\n",
    "    print 'the accuracy of the test set modeled by Random Forest after tuning is ', test_accuracy\n",
    "    print 'the F-score of the training set modeled by Random Forest after tuning is: ', train_fscore\n",
    "    print 'the F-score of the test set modeled by Random Forest after tuning is ', test_fscore\n",
    "\n",
    "    print time_results\n",
    "    print confusion_matrix(y_train, y_train_pred)\n",
    "    print confusion_matrix(y_test, y_test_pred)\n",
    "   \n",
    "    # visualize the important features in random forest\n",
    "    Data_Visualization().feature_importance_vis(RFC_best)"
   ]
  },
  {
   "cell_type": "code",
   "execution_count": null,
   "metadata": {
    "collapsed": true,
    "deletable": true,
    "editable": true
   },
   "outputs": [],
   "source": []
  }
 ],
 "metadata": {
  "kernelspec": {
   "display_name": "Python 2",
   "language": "python",
   "name": "python2"
  },
  "language_info": {
   "codemirror_mode": {
    "name": "ipython",
    "version": 2
   },
   "file_extension": ".py",
   "mimetype": "text/x-python",
   "name": "python",
   "nbconvert_exporter": "python",
   "pygments_lexer": "ipython2",
   "version": "2.7.13"
  }
 },
 "nbformat": 4,
 "nbformat_minor": 2
}
